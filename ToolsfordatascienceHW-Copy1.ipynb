{
 "cells": [
  {
   "cell_type": "markdown",
   "id": "fe33eec6",
   "metadata": {},
   "source": [
    "Tools for Data Science Peer-graded Assignment"
   ]
  },
  {
   "cell_type": "markdown",
   "id": "0640ef41",
   "metadata": {},
   "source": [
    "Introduction: This notebook is an intro to jupyter notebook capabilities"
   ]
  },
  {
   "cell_type": "markdown",
   "id": "0f67fd87",
   "metadata": {},
   "source": [
    "Data Science Languages:\n",
    "    Python\n",
    "    R\n",
    "    SQL\n",
    "    Java\n",
    "    Julia\n",
    "    C++\n",
    "    MATLAB\n",
    "    Scala"
   ]
  },
  {
   "cell_type": "markdown",
   "id": "a0d21c97",
   "metadata": {},
   "source": [
    "Data Science Libraries:\n",
    "    Numpy\n",
    "    SciPy\n",
    "    Pandas\n",
    "    Matplotlib\n",
    "    SciKit-Learn\n",
    "    PyTorch\n",
    "    BeautifulSoup"
   ]
  },
  {
   "cell_type": "markdown",
   "id": "03958a14",
   "metadata": {},
   "source": [
    "Data Science Tools:\n",
    "    TensorFlow\n",
    "    ApacheSpark\n",
    "    Weka\n"
   ]
  },
  {
   "cell_type": "markdown",
   "id": "0a0140de",
   "metadata": {},
   "source": [
    "arithmetic expression examples:\n",
    "eq=a*x**2+b*x+c\n",
    "eq"
   ]
  },
  {
   "cell_type": "code",
   "execution_count": 3,
   "id": "2e3bf61d",
   "metadata": {},
   "outputs": [
    {
     "data": {
      "text/plain": [
       "52"
      ]
     },
     "execution_count": 3,
     "metadata": {},
     "output_type": "execute_result"
    }
   ],
   "source": [
    "8*6+4"
   ]
  },
  {
   "cell_type": "code",
   "execution_count": 6,
   "id": "11a43c7b",
   "metadata": {},
   "outputs": [
    {
     "name": "stdout",
     "output_type": "stream",
     "text": [
      "6.0\n"
     ]
    }
   ],
   "source": [
    "minutes=360\n",
    "hours=minutes/60\n",
    "print(hours)"
   ]
  },
  {
   "cell_type": "markdown",
   "id": "91055bda",
   "metadata": {},
   "source": [
    "Objectives:\n",
    "    learning how to use jupyter notebook and what cool things it can do\n",
    "    learning about data science tools and libraries/languages\n",
    "    "
   ]
  },
  {
   "cell_type": "markdown",
   "id": "63ed3789",
   "metadata": {},
   "source": [
    "Author: Deven Aman"
   ]
  }
 ],
 "metadata": {
  "kernelspec": {
   "display_name": "Python 3",
   "language": "python",
   "name": "python3"
  },
  "language_info": {
   "codemirror_mode": {
    "name": "ipython",
    "version": 3
   },
   "file_extension": ".py",
   "mimetype": "text/x-python",
   "name": "python",
   "nbconvert_exporter": "python",
   "pygments_lexer": "ipython3",
   "version": "3.8.8"
  }
 },
 "nbformat": 4,
 "nbformat_minor": 5
}
